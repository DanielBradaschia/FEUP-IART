{
 "cells": [
  {
   "cell_type": "code",
   "execution_count": 1,
   "metadata": {},
   "outputs": [],
   "source": [
    "%matplotlib inline\n",
    "\n",
    "import numpy as np\n",
    "import matplotlib.pyplot as plt\n",
    "import seaborn as sns\n",
    "import pandas as pd\n",
    "import sqlite3\n",
    "import numpy as np\n",
    "from numpy import random\n",
    "from time import time"
   ]
  },
  {
   "cell_type": "code",
   "execution_count": 2,
   "metadata": {},
   "outputs": [
    {
     "data": {
      "text/plain": [
       "(183978, 42)"
      ]
     },
     "execution_count": 2,
     "metadata": {},
     "output_type": "execute_result"
    }
   ],
   "source": [
    "#load data (make sure you have downloaded database.sqlite)\n",
    "with sqlite3.connect('../soccer/database.sqlite') as con:\n",
    "    Player_Attributes = pd.read_sql_query(\"SELECT * from Player_Attributes\", con)\n",
    "Player_Attributes.shape"
   ]
  },
  {
   "cell_type": "code",
   "execution_count": 3,
   "metadata": {},
   "outputs": [
    {
     "data": {
      "text/html": [
       "<div>\n",
       "<style scoped>\n",
       "    .dataframe tbody tr th:only-of-type {\n",
       "        vertical-align: middle;\n",
       "    }\n",
       "\n",
       "    .dataframe tbody tr th {\n",
       "        vertical-align: top;\n",
       "    }\n",
       "\n",
       "    .dataframe thead th {\n",
       "        text-align: right;\n",
       "    }\n",
       "</style>\n",
       "<table border=\"1\" class=\"dataframe\">\n",
       "  <thead>\n",
       "    <tr style=\"text-align: right;\">\n",
       "      <th></th>\n",
       "      <th>potential</th>\n",
       "      <th>preferred_foot</th>\n",
       "      <th>attacking_work_rate</th>\n",
       "      <th>defensive_work_rate</th>\n",
       "      <th>crossing</th>\n",
       "      <th>finishing</th>\n",
       "      <th>heading_accuracy</th>\n",
       "      <th>short_passing</th>\n",
       "      <th>volleys</th>\n",
       "      <th>dribbling</th>\n",
       "      <th>...</th>\n",
       "      <th>vision</th>\n",
       "      <th>penalties</th>\n",
       "      <th>marking</th>\n",
       "      <th>standing_tackle</th>\n",
       "      <th>sliding_tackle</th>\n",
       "      <th>gk_diving</th>\n",
       "      <th>gk_handling</th>\n",
       "      <th>gk_kicking</th>\n",
       "      <th>gk_positioning</th>\n",
       "      <th>gk_reflexes</th>\n",
       "    </tr>\n",
       "  </thead>\n",
       "  <tbody>\n",
       "    <tr>\n",
       "      <th>0</th>\n",
       "      <td>71.0</td>\n",
       "      <td>right</td>\n",
       "      <td>medium</td>\n",
       "      <td>medium</td>\n",
       "      <td>49.0</td>\n",
       "      <td>44.0</td>\n",
       "      <td>71.0</td>\n",
       "      <td>61.0</td>\n",
       "      <td>44.0</td>\n",
       "      <td>51.0</td>\n",
       "      <td>...</td>\n",
       "      <td>54.0</td>\n",
       "      <td>48.0</td>\n",
       "      <td>65.0</td>\n",
       "      <td>69.0</td>\n",
       "      <td>69.0</td>\n",
       "      <td>6.0</td>\n",
       "      <td>11.0</td>\n",
       "      <td>10.0</td>\n",
       "      <td>8.0</td>\n",
       "      <td>8.0</td>\n",
       "    </tr>\n",
       "    <tr>\n",
       "      <th>1</th>\n",
       "      <td>71.0</td>\n",
       "      <td>right</td>\n",
       "      <td>medium</td>\n",
       "      <td>medium</td>\n",
       "      <td>49.0</td>\n",
       "      <td>44.0</td>\n",
       "      <td>71.0</td>\n",
       "      <td>61.0</td>\n",
       "      <td>44.0</td>\n",
       "      <td>51.0</td>\n",
       "      <td>...</td>\n",
       "      <td>54.0</td>\n",
       "      <td>48.0</td>\n",
       "      <td>65.0</td>\n",
       "      <td>69.0</td>\n",
       "      <td>69.0</td>\n",
       "      <td>6.0</td>\n",
       "      <td>11.0</td>\n",
       "      <td>10.0</td>\n",
       "      <td>8.0</td>\n",
       "      <td>8.0</td>\n",
       "    </tr>\n",
       "    <tr>\n",
       "      <th>2</th>\n",
       "      <td>66.0</td>\n",
       "      <td>right</td>\n",
       "      <td>medium</td>\n",
       "      <td>medium</td>\n",
       "      <td>49.0</td>\n",
       "      <td>44.0</td>\n",
       "      <td>71.0</td>\n",
       "      <td>61.0</td>\n",
       "      <td>44.0</td>\n",
       "      <td>51.0</td>\n",
       "      <td>...</td>\n",
       "      <td>54.0</td>\n",
       "      <td>48.0</td>\n",
       "      <td>65.0</td>\n",
       "      <td>66.0</td>\n",
       "      <td>69.0</td>\n",
       "      <td>6.0</td>\n",
       "      <td>11.0</td>\n",
       "      <td>10.0</td>\n",
       "      <td>8.0</td>\n",
       "      <td>8.0</td>\n",
       "    </tr>\n",
       "    <tr>\n",
       "      <th>3</th>\n",
       "      <td>65.0</td>\n",
       "      <td>right</td>\n",
       "      <td>medium</td>\n",
       "      <td>medium</td>\n",
       "      <td>48.0</td>\n",
       "      <td>43.0</td>\n",
       "      <td>70.0</td>\n",
       "      <td>60.0</td>\n",
       "      <td>43.0</td>\n",
       "      <td>50.0</td>\n",
       "      <td>...</td>\n",
       "      <td>53.0</td>\n",
       "      <td>47.0</td>\n",
       "      <td>62.0</td>\n",
       "      <td>63.0</td>\n",
       "      <td>66.0</td>\n",
       "      <td>5.0</td>\n",
       "      <td>10.0</td>\n",
       "      <td>9.0</td>\n",
       "      <td>7.0</td>\n",
       "      <td>7.0</td>\n",
       "    </tr>\n",
       "    <tr>\n",
       "      <th>4</th>\n",
       "      <td>65.0</td>\n",
       "      <td>right</td>\n",
       "      <td>medium</td>\n",
       "      <td>medium</td>\n",
       "      <td>48.0</td>\n",
       "      <td>43.0</td>\n",
       "      <td>70.0</td>\n",
       "      <td>60.0</td>\n",
       "      <td>43.0</td>\n",
       "      <td>50.0</td>\n",
       "      <td>...</td>\n",
       "      <td>53.0</td>\n",
       "      <td>47.0</td>\n",
       "      <td>62.0</td>\n",
       "      <td>63.0</td>\n",
       "      <td>66.0</td>\n",
       "      <td>5.0</td>\n",
       "      <td>10.0</td>\n",
       "      <td>9.0</td>\n",
       "      <td>7.0</td>\n",
       "      <td>7.0</td>\n",
       "    </tr>\n",
       "  </tbody>\n",
       "</table>\n",
       "<p>5 rows × 37 columns</p>\n",
       "</div>"
      ],
      "text/plain": [
       "   potential preferred_foot attacking_work_rate defensive_work_rate  crossing  \\\n",
       "0       71.0          right              medium              medium      49.0   \n",
       "1       71.0          right              medium              medium      49.0   \n",
       "2       66.0          right              medium              medium      49.0   \n",
       "3       65.0          right              medium              medium      48.0   \n",
       "4       65.0          right              medium              medium      48.0   \n",
       "\n",
       "   finishing  heading_accuracy  short_passing  volleys  dribbling  ...  \\\n",
       "0       44.0              71.0           61.0     44.0       51.0  ...   \n",
       "1       44.0              71.0           61.0     44.0       51.0  ...   \n",
       "2       44.0              71.0           61.0     44.0       51.0  ...   \n",
       "3       43.0              70.0           60.0     43.0       50.0  ...   \n",
       "4       43.0              70.0           60.0     43.0       50.0  ...   \n",
       "\n",
       "   vision  penalties  marking  standing_tackle  sliding_tackle  gk_diving  \\\n",
       "0    54.0       48.0     65.0             69.0            69.0        6.0   \n",
       "1    54.0       48.0     65.0             69.0            69.0        6.0   \n",
       "2    54.0       48.0     65.0             66.0            69.0        6.0   \n",
       "3    53.0       47.0     62.0             63.0            66.0        5.0   \n",
       "4    53.0       47.0     62.0             63.0            66.0        5.0   \n",
       "\n",
       "   gk_handling  gk_kicking  gk_positioning  gk_reflexes  \n",
       "0         11.0        10.0             8.0          8.0  \n",
       "1         11.0        10.0             8.0          8.0  \n",
       "2         11.0        10.0             8.0          8.0  \n",
       "3         10.0         9.0             7.0          7.0  \n",
       "4         10.0         9.0             7.0          7.0  \n",
       "\n",
       "[5 rows x 37 columns]"
      ]
     },
     "execution_count": 3,
     "metadata": {},
     "output_type": "execute_result"
    }
   ],
   "source": [
    "#select relevant fields\n",
    "Player_Attributes.dropna(inplace=True)\n",
    "Player_Attributes.drop(['id', 'player_fifa_api_id', 'player_api_id', 'date'], axis = 1, inplace = True)\n",
    "overall_rating = Player_Attributes['overall_rating']\n",
    "features = Player_Attributes.drop('overall_rating', axis = 1)\n",
    "features.head()"
   ]
  },
  {
   "cell_type": "code",
   "execution_count": 4,
   "metadata": {},
   "outputs": [
    {
     "data": {
      "text/plain": [
       "'from sklearn import preprocessing\\n\\nle_sex = preprocessing.LabelEncoder()\\n\\n#to convert into numbers\\n\\nfeatures.preferred_foot = le_sex.fit_transform(features.preferred_foot)\\nfeatures.attacking_work_rate = le_sex.fit_transform(features.attacking_work_rate)\\nfeatures.defensive_work_rate = le_sex.fit_transform(features.defensive_work_rate)\\nfeatures.head()\\n\\n# to convert back\\n# train.Sex = le_sex.inverse_transform(train.Sex)'"
      ]
     },
     "execution_count": 4,
     "metadata": {},
     "output_type": "execute_result"
    }
   ],
   "source": [
    "# Use LabelEncoder to convert categorical data field into numerical data field\n",
    "'''from sklearn import preprocessing\n",
    "\n",
    "le_sex = preprocessing.LabelEncoder()\n",
    "\n",
    "#to convert into numbers\n",
    "\n",
    "features.preferred_foot = le_sex.fit_transform(features.preferred_foot)\n",
    "features.attacking_work_rate = le_sex.fit_transform(features.attacking_work_rate)\n",
    "features.defensive_work_rate = le_sex.fit_transform(features.defensive_work_rate)\n",
    "features.head()\n",
    "\n",
    "# to convert back\n",
    "# train.Sex = le_sex.inverse_transform(train.Sex)'''"
   ]
  },
  {
   "cell_type": "code",
   "execution_count": 4,
   "metadata": {},
   "outputs": [],
   "source": [
    "# Use pandas get_dummies to convert categorical value into numerical\n",
    "features = pd.get_dummies(features)"
   ]
  },
  {
   "cell_type": "code",
   "execution_count": 5,
   "metadata": {},
   "outputs": [],
   "source": [
    "# Feature scaling using MinMaxScaler\n",
    "from sklearn import preprocessing\n",
    "min_max_scaler = preprocessing.MinMaxScaler()\n",
    "scaled_features = min_max_scaler.fit_transform(features)"
   ]
  },
  {
   "cell_type": "code",
   "execution_count": 7,
   "metadata": {},
   "outputs": [
    {
     "data": {
      "text/plain": [
       "\"#b Let's use Standard scaler now to scale the data\\nfrom sklearn import preprocessing\\nstd_scaler = preprocessing.StandardScaler()\\nscaled_features = std_scaler.fit_transform(features)\""
      ]
     },
     "execution_count": 7,
     "metadata": {},
     "output_type": "execute_result"
    }
   ],
   "source": [
    "'''#b Let's use Standard scaler now to scale the data\n",
    "from sklearn import preprocessing\n",
    "std_scaler = preprocessing.StandardScaler()\n",
    "scaled_features = std_scaler.fit_transform(features)'''"
   ]
  },
  {
   "cell_type": "code",
   "execution_count": 6,
   "metadata": {},
   "outputs": [],
   "source": [
    "from sklearn.decomposition import PCA\n",
    "pca = PCA(n_components = 6)\n",
    "pca_features = pca.fit_transform(scaled_features)"
   ]
  },
  {
   "cell_type": "code",
   "execution_count": 9,
   "metadata": {},
   "outputs": [
    {
     "data": {
      "text/plain": [
       "'# Feature selection using sklearn SelectKBest\\nfrom sklearn.feature_selection import SelectKBest\\nfrom sklearn.feature_selection import f_regression\\nfeature_reg = SelectKBest(f_regression, k=6)\\nX_new = feature_reg.fit_transform(scaled_features, overall_rating)'"
      ]
     },
     "execution_count": 9,
     "metadata": {},
     "output_type": "execute_result"
    }
   ],
   "source": [
    "'''# Feature selection using sklearn SelectKBest\n",
    "from sklearn.feature_selection import SelectKBest\n",
    "from sklearn.feature_selection import f_regression\n",
    "feature_reg = SelectKBest(f_regression, k=6)\n",
    "X_new = feature_reg.fit_transform(scaled_features, overall_rating)'''"
   ]
  },
  {
   "cell_type": "code",
   "execution_count": 7,
   "metadata": {},
   "outputs": [
    {
     "name": "stdout",
     "output_type": "stream",
     "text": [
      "--------------------\n",
      "DecisionTree\n",
      "--------------------\n",
      "Time taken to train the model: 7.420112371444702\n",
      "Time taken to predict the model: 0.21271991729736328\n",
      "r2 score of this model on testing set is: 0.9497573508853848\n",
      "r2 score of this model on training set is: 0.9988644730721816\n",
      "--------------------\n",
      "SGDRegressor\n",
      "--------------------\n",
      "Time taken to train the model: 2.0376570224761963\n",
      "Time taken to predict the model: 0.015960216522216797\n",
      "r2 score of this model on testing set is: 0.8429320134680672\n",
      "r2 score of this model on training set is: 0.8445771303753988\n",
      "--------------------\n",
      "KNeighbors\n",
      "--------------------\n",
      "Time taken to train the model: 12.83634877204895\n",
      "Time taken to predict the model: 722.3275904655457\n",
      "r2 score of this model on testing set is: 0.9557633414780853\n",
      "r2 score of this model on training set is: 0.9891838192633062\n",
      "--------------------\n",
      "NeuralNetwork\n",
      "--------------------\n",
      "Time taken to train the model: 853.534113407135\n",
      "Time taken to predict the model: 5.250151634216309\n",
      "r2 score of this model on testing set is: 0.9559526964416791\n",
      "r2 score of this model on training set is: 0.9579127454206207\n"
     ]
    }
   ],
   "source": [
    "# Train and predict model on Decision tree,on SGD regressor and K-Nearest Neighbors\n",
    "from sklearn import tree\n",
    "from sklearn import linear_model\n",
    "from sklearn.neighbors import KNeighborsRegressor\n",
    "from sklearn.neural_network import MLPRegressor\n",
    "from sklearn.datasets import make_regression\n",
    "from sklearn.metrics import r2_score\n",
    "from sklearn.model_selection import train_test_split\n",
    "from sklearn.datasets import load_iris\n",
    "from sklearn.metrics import mean_squared_error \n",
    "from math import sqrt\n",
    "from time import time\n",
    "\n",
    "reg1 = tree.DecisionTreeClassifier()\n",
    "reg2 = linear_model.SGDRegressor()\n",
    "reg3 = KNeighborsRegressor(n_neighbors=2)\n",
    "reg4 = MLPRegressor(random_state=1, max_iter=500)\n",
    "\n",
    "\n",
    "regs = {reg1:\"DecisionTree\", reg2:\"SGDRegressor\", reg3:\"KNeighbors\", reg4:\"NeuralNetwork\"}\n",
    "\n",
    "for key in regs:\n",
    "    t0 = time()\n",
    "    X_train, X_test, y_train, y_test = train_test_split(scaled_features, overall_rating, test_size=0.25, random_state=0)\n",
    "\n",
    "    print (\"--------------------\")\n",
    "    print (regs[key])\n",
    "    print (\"--------------------\")\n",
    "        \n",
    "    t1 = time()\n",
    "    key.fit(X_train, y_train)\n",
    "    print (\"Time taken to train the model: {}\".format(time()-t1))\n",
    "\n",
    "    t2 = time()\n",
    "    pred_test = key.predict(X_test)\n",
    "    pred_train = key.predict(X_train)\n",
    "    print (\"Time taken to predict the model: {}\".format(time()-t2))\n",
    "\n",
    "    t3 = time()\n",
    "    print (\"r2 score of this model on testing set is: {}\".format(r2_score(y_test, pred_test)))\n",
    "    print (\"r2 score of this model on training set is: {}\".format(r2_score(y_train, pred_train)))"
   ]
  },
  {
   "cell_type": "code",
   "execution_count": 13,
   "metadata": {},
   "outputs": [
    {
     "data": {
      "image/png": "[encoded data removed]",
      "text/plain": [
       "<Figure size 432x288 with 1 Axes>"
      ]
     },
     "metadata": {
      "needs_background": "light"
     },
     "output_type": "display_data"
    }
   ],
   "source": [
    "X_train, X_test, y_train, y_test = train_test_split(scaled_features, overall_rating, test_size=0.25, random_state=0)\n",
    "\n",
    "reg2.fit(X_train, y_train)\n",
    "pred_test = reg2.predict(X_test)\n",
    "plt.scatter(y_test,pred_test)\n",
    "plt.grid()\n",
    "plt.xlabel('Actual Y')\n",
    "plt.ylabel('Predicted Y')\n",
    "plt.title('Scatter plot SGDRegressor')\n",
    "plt.show()\n"
   ]
  },
  {
   "cell_type": "code",
   "execution_count": 8,
   "metadata": {},
   "outputs": [
    {
     "name": "stdout",
     "output_type": "stream",
     "text": [
      "RMSE value for k=  1 is: 1.4371127607135425\n",
      "RMSE value for k=  2 is: 1.4674191600658149\n",
      "RMSE value for k=  3 is: 1.5371942246708927\n",
      "RMSE value for k=  4 is: 1.5919015401176657\n",
      "RMSE value for k=  5 is: 1.6410105998357583\n",
      "RMSE value for k=  6 is: 1.6891998468890845\n",
      "RMSE value for k=  7 is: 1.7266537186638116\n",
      "RMSE value for k=  8 is: 1.7586972550592932\n",
      "RMSE value for k=  9 is: 1.7860959172709656\n",
      "RMSE value for k=  10 is: 1.8086762098454865\n"
     ]
    },
    {
     "data": {
      "text/plain": [
       "<matplotlib.axes._subplots.AxesSubplot at 0x7fed96f19240>"
      ]
     },
     "execution_count": 8,
     "metadata": {},
     "output_type": "execute_result"
    },
    {
     "data": {
      "image/png": "[encoded data removed]",
      "text/plain": [
       "<Figure size 432x288 with 1 Axes>"
      ]
     },
     "metadata": {
      "needs_background": "light"
     },
     "output_type": "display_data"
    }
   ],
   "source": [
    "X_train, X_test, y_train, y_test = train_test_split(scaled_features, overall_rating, test_size=0.25, random_state=0)\n",
    "\n",
    "rmse_val = [] #to store rmse values for different k\n",
    "for K in range(10):\n",
    "    K = K+1\n",
    "    reg3 = KNeighborsRegressor(n_neighbors = K)\n",
    "    reg3.fit(X_train, y_train)  #fit the model\n",
    "    pred=reg3.predict(X_test) #make prediction on test set\n",
    "    error = sqrt(mean_squared_error(y_test,pred)) #calculate rmse\n",
    "    rmse_val.append(error) #store rmse values\n",
    "    print('RMSE value for k= ' , K , 'is:', error)\n",
    "    \n",
    "curve = pd.DataFrame(rmse_val) #elbow curve \n",
    "curve.plot()"
   ]
  },
  {
   "cell_type": "code",
   "execution_count": null,
   "metadata": {},
   "outputs": [],
   "source": []
  }
 ],
 "metadata": {
  "kernelspec": {
   "display_name": "Python 3",
   "language": "python",
   "name": "python3"
  },
  "language_info": {
   "codemirror_mode": {
    "name": "ipython",
    "version": 3
   },
   "file_extension": ".py",
   "mimetype": "text/x-python",
   "name": "python",
   "nbconvert_exporter": "python",
   "pygments_lexer": "ipython3",
   "version": "3.7.3"
  }
 },
 "nbformat": 4,
 "nbformat_minor": 2
}
